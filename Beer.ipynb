{
 "cells": [
  {
   "cell_type": "markdown",
   "id": "692304a9-cbb5-4ec7-abd7-8d78a6ef8f83",
   "metadata": {},
   "source": [
    "# Evolent Health: Technical Exercise for Data Science Candidate"
   ]
  },
  {
   "cell_type": "markdown",
   "id": "2cda642a-ff92-42aa-9d3b-425f4f29d7b2",
   "metadata": {},
   "source": [
    "### **Imports**"
   ]
  },
  {
   "cell_type": "code",
   "execution_count": 1,
   "id": "123bffa0-ce13-4321-8721-4c73943b7861",
   "metadata": {},
   "outputs": [],
   "source": [
    "import re\n",
    "import warnings\n",
    "from os import getcwd\n",
    "from os.path import join, isfile\n",
    "\n",
    "import numpy as np\n",
    "import pandas as pd\n",
    "import seaborn as sns\n",
    "from matplotlib import pyplot as plt\n",
    "from sklearn.metrics import mean_squared_error\n",
    "from transformers import pipeline"
   ]
  },
  {
   "cell_type": "code",
   "execution_count": 2,
   "id": "e4475a3f-7dc2-42bf-b946-46461084edd0",
   "metadata": {},
   "outputs": [],
   "source": [
    "warnings.filterwarnings('ignore')\n",
    "sns.set_style('darkgrid')"
   ]
  },
  {
   "cell_type": "markdown",
   "id": "38850ffc-2014-47ee-9c21-d43d620b0022",
   "metadata": {},
   "source": [
    "### **Reading data**"
   ]
  },
  {
   "cell_type": "code",
   "execution_count": 3,
   "id": "5e6c07cc-2131-4a37-ac6d-d351897b8f96",
   "metadata": {},
   "outputs": [],
   "source": [
    "# Defining paths\n",
    "DATA_DIR = join(getcwd(), \"data\")\n",
    "data_file_path = join(DATA_DIR, \"BeerDataScienceProject.csv\")"
   ]
  },
  {
   "cell_type": "code",
   "execution_count": 4,
   "id": "a0a4a47e-687d-458f-9c64-0a5247b26693",
   "metadata": {},
   "outputs": [],
   "source": [
    "df = pd.read_csv(data_file_path, encoding=\"iso-8859-1\")"
   ]
  },
  {
   "cell_type": "code",
   "execution_count": 5,
   "id": "0e588232-628a-4a9f-990a-01d7044c2b5e",
   "metadata": {},
   "outputs": [
    {
     "name": "stdout",
     "output_type": "stream",
     "text": [
      "<class 'pandas.core.frame.DataFrame'>\n",
      "RangeIndex: 528870 entries, 0 to 528869\n",
      "Data columns (total 13 columns):\n",
      " #   Column              Non-Null Count   Dtype  \n",
      "---  ------              --------------   -----  \n",
      " 0   beer_ABV            508590 non-null  float64\n",
      " 1   beer_beerId         528870 non-null  int64  \n",
      " 2   beer_brewerId       528870 non-null  int64  \n",
      " 3   beer_name           528870 non-null  object \n",
      " 4   beer_style          528870 non-null  object \n",
      " 5   review_appearance   528870 non-null  float64\n",
      " 6   review_palette      528870 non-null  float64\n",
      " 7   review_overall      528870 non-null  float64\n",
      " 8   review_taste        528870 non-null  float64\n",
      " 9   review_profileName  528755 non-null  object \n",
      " 10  review_aroma        528870 non-null  float64\n",
      " 11  review_text         528751 non-null  object \n",
      " 12  review_time         528870 non-null  int64  \n",
      "dtypes: float64(6), int64(3), object(4)\n",
      "memory usage: 52.5+ MB\n"
     ]
    },
    {
     "data": {
      "text/html": [
       "<div>\n",
       "<style scoped>\n",
       "    .dataframe tbody tr th:only-of-type {\n",
       "        vertical-align: middle;\n",
       "    }\n",
       "\n",
       "    .dataframe tbody tr th {\n",
       "        vertical-align: top;\n",
       "    }\n",
       "\n",
       "    .dataframe thead th {\n",
       "        text-align: right;\n",
       "    }\n",
       "</style>\n",
       "<table border=\"1\" class=\"dataframe\">\n",
       "  <thead>\n",
       "    <tr style=\"text-align: right;\">\n",
       "      <th></th>\n",
       "      <th>beer_ABV</th>\n",
       "      <th>beer_beerId</th>\n",
       "      <th>beer_brewerId</th>\n",
       "      <th>beer_name</th>\n",
       "      <th>beer_style</th>\n",
       "      <th>review_appearance</th>\n",
       "      <th>review_palette</th>\n",
       "      <th>review_overall</th>\n",
       "      <th>review_taste</th>\n",
       "      <th>review_profileName</th>\n",
       "      <th>review_aroma</th>\n",
       "      <th>review_text</th>\n",
       "      <th>review_time</th>\n",
       "    </tr>\n",
       "  </thead>\n",
       "  <tbody>\n",
       "    <tr>\n",
       "      <th>277607</th>\n",
       "      <td>5.5</td>\n",
       "      <td>67119</td>\n",
       "      <td>22200</td>\n",
       "      <td>Egg Nog</td>\n",
       "      <td>Cream Ale</td>\n",
       "      <td>4.0</td>\n",
       "      <td>3.5</td>\n",
       "      <td>4.5</td>\n",
       "      <td>4.0</td>\n",
       "      <td>jlindros</td>\n",
       "      <td>4.0</td>\n",
       "      <td>Had on tap at EBF. Big creamy head with some s...</td>\n",
       "      <td>1299995448</td>\n",
       "    </tr>\n",
       "    <tr>\n",
       "      <th>500780</th>\n",
       "      <td>6.0</td>\n",
       "      <td>73341</td>\n",
       "      <td>132</td>\n",
       "      <td>Chatoe First Growth Good Chit Pilsner</td>\n",
       "      <td>Czech Pilsener</td>\n",
       "      <td>5.0</td>\n",
       "      <td>4.5</td>\n",
       "      <td>5.0</td>\n",
       "      <td>4.0</td>\n",
       "      <td>WVbeergeek</td>\n",
       "      <td>4.5</td>\n",
       "      <td>Pours with a slight chill haze with a bright l...</td>\n",
       "      <td>1324352489</td>\n",
       "    </tr>\n",
       "    <tr>\n",
       "      <th>124373</th>\n",
       "      <td>11.0</td>\n",
       "      <td>56232</td>\n",
       "      <td>273</td>\n",
       "      <td>Sweetwater Dank Tank BSP Quad Ale</td>\n",
       "      <td>Quadrupel (Quad)</td>\n",
       "      <td>4.0</td>\n",
       "      <td>4.0</td>\n",
       "      <td>4.5</td>\n",
       "      <td>4.0</td>\n",
       "      <td>gford217</td>\n",
       "      <td>4.5</td>\n",
       "      <td>Pours dark mahogany in the glass but shows thr...</td>\n",
       "      <td>1271480365</td>\n",
       "    </tr>\n",
       "    <tr>\n",
       "      <th>497171</th>\n",
       "      <td>9.5</td>\n",
       "      <td>358</td>\n",
       "      <td>132</td>\n",
       "      <td>XS Imperial India Pale Ale</td>\n",
       "      <td>American Double / Imperial IPA</td>\n",
       "      <td>4.0</td>\n",
       "      <td>4.5</td>\n",
       "      <td>4.5</td>\n",
       "      <td>4.0</td>\n",
       "      <td>CrashWorship</td>\n",
       "      <td>5.0</td>\n",
       "      <td>Ryan and John's Fat Head's Session II: Appeara...</td>\n",
       "      <td>1069361248</td>\n",
       "    </tr>\n",
       "    <tr>\n",
       "      <th>100553</th>\n",
       "      <td>6.5</td>\n",
       "      <td>30358</td>\n",
       "      <td>2299</td>\n",
       "      <td>Ichtegem's Grand Cru</td>\n",
       "      <td>Flanders Red Ale</td>\n",
       "      <td>4.0</td>\n",
       "      <td>3.0</td>\n",
       "      <td>3.5</td>\n",
       "      <td>3.0</td>\n",
       "      <td>DaveHS</td>\n",
       "      <td>3.5</td>\n",
       "      <td>A-Pours deep brown with ruby highlights and a ...</td>\n",
       "      <td>1296866367</td>\n",
       "    </tr>\n",
       "  </tbody>\n",
       "</table>\n",
       "</div>"
      ],
      "text/plain": [
       "        beer_ABV  beer_beerId  beer_brewerId  \\\n",
       "277607       5.5        67119          22200   \n",
       "500780       6.0        73341            132   \n",
       "124373      11.0        56232            273   \n",
       "497171       9.5          358            132   \n",
       "100553       6.5        30358           2299   \n",
       "\n",
       "                                    beer_name                      beer_style  \\\n",
       "277607                                Egg Nog                       Cream Ale   \n",
       "500780  Chatoe First Growth Good Chit Pilsner                  Czech Pilsener   \n",
       "124373      Sweetwater Dank Tank BSP Quad Ale                Quadrupel (Quad)   \n",
       "497171             XS Imperial India Pale Ale  American Double / Imperial IPA   \n",
       "100553                   Ichtegem's Grand Cru                Flanders Red Ale   \n",
       "\n",
       "        review_appearance  review_palette  review_overall  review_taste  \\\n",
       "277607                4.0             3.5             4.5           4.0   \n",
       "500780                5.0             4.5             5.0           4.0   \n",
       "124373                4.0             4.0             4.5           4.0   \n",
       "497171                4.0             4.5             4.5           4.0   \n",
       "100553                4.0             3.0             3.5           3.0   \n",
       "\n",
       "       review_profileName  review_aroma  \\\n",
       "277607           jlindros           4.0   \n",
       "500780         WVbeergeek           4.5   \n",
       "124373           gford217           4.5   \n",
       "497171       CrashWorship           5.0   \n",
       "100553             DaveHS           3.5   \n",
       "\n",
       "                                              review_text  review_time  \n",
       "277607  Had on tap at EBF. Big creamy head with some s...   1299995448  \n",
       "500780  Pours with a slight chill haze with a bright l...   1324352489  \n",
       "124373  Pours dark mahogany in the glass but shows thr...   1271480365  \n",
       "497171  Ryan and John's Fat Head's Session II: Appeara...   1069361248  \n",
       "100553  A-Pours deep brown with ruby highlights and a ...   1296866367  "
      ]
     },
     "execution_count": 5,
     "metadata": {},
     "output_type": "execute_result"
    }
   ],
   "source": [
    "# Basic info and preview\n",
    "df.info()\n",
    "df.sample(5)"
   ]
  },
  {
   "cell_type": "markdown",
   "id": "8e00bd99-830b-4269-a047-c5f844b16cce",
   "metadata": {},
   "source": [
    "### **Missing Values**"
   ]
  },
  {
   "cell_type": "code",
   "execution_count": 6,
   "id": "39909fed-9771-4a98-b6ce-2bc643bd12c5",
   "metadata": {},
   "outputs": [
    {
     "name": "stdout",
     "output_type": "stream",
     "text": [
      "Percentage of values missing: 3.88%\n"
     ]
    }
   ],
   "source": [
    "df_na = df.dropna()\n",
    "print(f\"Percentage of values missing: {(1 - (df_na.shape[0] / df.shape[0])) * 100:.2f}%\")"
   ]
  },
  {
   "cell_type": "markdown",
   "id": "8ec3d76c-ff86-4b02-af9d-a48e69e2b46d",
   "metadata": {},
   "source": [
    "### **Duplicate Values**"
   ]
  },
  {
   "cell_type": "code",
   "execution_count": 7,
   "id": "60c2c88d-ffa3-4c99-ad6a-4e1b825b55fd",
   "metadata": {},
   "outputs": [
    {
     "name": "stdout",
     "output_type": "stream",
     "text": [
      "Total number of duplicate values: 0\n"
     ]
    }
   ],
   "source": [
    "print(f\"Total number of duplicate values: {df_na.shape[0] - df_na.drop_duplicates().shape[0]}\")"
   ]
  },
  {
   "cell_type": "markdown",
   "id": "cbcc54eb-3b3e-4e81-8c68-7e97a8ca7791",
   "metadata": {},
   "source": [
    "## **Question 1**: Top 3 breweries with strongest beer\n",
    "\n",
    "Since the strenght of any alcoholic beverage is defined by the alcohol content. Therefore, the average ABV is a good indicator of the strength of the beer"
   ]
  },
  {
   "cell_type": "code",
   "execution_count": 8,
   "id": "520de8d4-e4f8-4cdb-8631-1a2ca9b6a761",
   "metadata": {},
   "outputs": [
    {
     "data": {
      "text/plain": [
       "beer_brewerId\n",
       "1     4.438717\n",
       "3     5.537475\n",
       "5     4.790072\n",
       "10    4.973214\n",
       "14    6.939831\n",
       "Name: beer_ABV, dtype: float64"
      ]
     },
     "execution_count": 8,
     "metadata": {},
     "output_type": "execute_result"
    }
   ],
   "source": [
    "average_alcohol_content = df_na.groupby(['beer_brewerId']).mean()['beer_ABV']\n",
    "average_alcohol_content.head()"
   ]
  },
  {
   "cell_type": "code",
   "execution_count": 9,
   "id": "bf73aa1b-02a4-4814-a524-91609cf914eb",
   "metadata": {},
   "outputs": [
    {
     "data": {
      "text/plain": [
       "beer_brewerId\n",
       "6513     19.228824\n",
       "736      13.750000\n",
       "24215    12.466667\n",
       "Name: beer_ABV, dtype: float64"
      ]
     },
     "execution_count": 9,
     "metadata": {},
     "output_type": "execute_result"
    }
   ],
   "source": [
    "average_alcohol_content = average_alcohol_content.sort_values(ascending=False).head(3)\n",
    "average_alcohol_content"
   ]
  },
  {
   "cell_type": "code",
   "execution_count": 10,
   "id": "269825d0-2418-4028-abe4-19766bd90301",
   "metadata": {},
   "outputs": [
    {
     "data": {
      "image/png": "[encoded data removed]",
      "text/plain": [
       "<Figure size 1440x720 with 1 Axes>"
      ]
     },
     "metadata": {},
     "output_type": "display_data"
    }
   ],
   "source": [
    "plt.figure(figsize=(20, 10))\n",
    "plt.title(\"Top 20 average Alcohol By Volume (ABV) Brewers\")\n",
    "sns.barplot(average_alcohol_content.index, average_alcohol_content)\n",
    "plt.ylabel(\"Average Alcohol By Volume (ABV)\")\n",
    "plt.xlabel(\"Brewer Identifiers\")\n",
    "plt.show()"
   ]
  },
  {
   "cell_type": "code",
   "execution_count": 11,
   "id": "610874a8-1bbd-41d3-bd9f-99be6b5abb82",
   "metadata": {},
   "outputs": [],
   "source": [
    "del average_alcohol_content"
   ]
  },
  {
   "cell_type": "markdown",
   "id": "9e75ad60-03fe-442a-b134-6a4b9dbc3b69",
   "metadata": {},
   "source": [
    "## **Question 2**: Which year did beers enjoy the highest ratings?\n",
    "\n",
    "Here, the average rating of all the beers in each year is a calculated. This is due the fact that every year has beer that is rated $5$ which is the highest rating. This will not provide us any useful insight, whilst the average rating of beer for year will allow us liking towards the beer "
   ]
  },
  {
   "cell_type": "code",
   "execution_count": 12,
   "id": "25887cf6-0b0c-42e8-a704-b249c15dea28",
   "metadata": {},
   "outputs": [],
   "source": [
    "df_na['year'] = pd.to_datetime(df_na['review_time'], unit='s').apply(lambda x: x.year)"
   ]
  },
  {
   "cell_type": "code",
   "execution_count": 13,
   "id": "528859b3-1fb3-4718-a38c-2e6c6cea44cf",
   "metadata": {},
   "outputs": [
    {
     "data": {
      "text/plain": [
       "year\n",
       "1998    4.045455\n",
       "1999    4.000000\n",
       "2000    4.233333\n",
       "2001    3.961896\n",
       "2002    3.817551\n",
       "2003    3.772793\n",
       "2004    3.806632\n",
       "2005    3.844657\n",
       "2006    3.809104\n",
       "2007    3.819879\n",
       "2008    3.840345\n",
       "2009    3.868749\n",
       "2010    3.869430\n",
       "2011    3.833394\n",
       "2012    3.839082\n",
       "Name: review_overall, dtype: float64"
      ]
     },
     "execution_count": 13,
     "metadata": {},
     "output_type": "execute_result"
    }
   ],
   "source": [
    "average_rating = df_na.groupby('year').mean()['review_overall']\n",
    "average_rating"
   ]
  },
  {
   "cell_type": "code",
   "execution_count": 14,
   "id": "8a66501d-caaa-4fb7-8e34-f4edbdc9507c",
   "metadata": {},
   "outputs": [
    {
     "data": {
      "image/png": "[encoded data removed]",
      "text/plain": [
       "<Figure size 1440x720 with 1 Axes>"
      ]
     },
     "metadata": {},
     "output_type": "display_data"
    }
   ],
   "source": [
    "plt.figure(figsize=(20, 10))\n",
    "plt.title(\"Average Overall Rating over the years\")\n",
    "sns.barplot(average_rating.index, average_rating)\n",
    "plt.xlabel(\"Years\")\n",
    "plt.ylabel(\"Average Overall Ratings\")\n",
    "plt.show()"
   ]
  },
  {
   "cell_type": "code",
   "execution_count": 15,
   "id": "2dd866b4-ccfd-410c-9bf0-e25c853e2c11",
   "metadata": {},
   "outputs": [
    {
     "data": {
      "text/plain": [
       "year\n",
       "2000    4.233333\n",
       "1998    4.045455\n",
       "1999    4.000000\n",
       "2001    3.961896\n",
       "2010    3.869430\n",
       "Name: review_overall, dtype: float64"
      ]
     },
     "execution_count": 15,
     "metadata": {},
     "output_type": "execute_result"
    }
   ],
   "source": [
    "average_rating.sort_values(ascending=False).head()"
   ]
  },
  {
   "cell_type": "code",
   "execution_count": 16,
   "id": "153ebad2-566b-4a2b-8261-2a0434adcd8e",
   "metadata": {},
   "outputs": [],
   "source": [
    "del average_rating"
   ]
  },
  {
   "cell_type": "markdown",
   "id": "d0b224ff-7c97-4f8c-aecb-498523e99ad7",
   "metadata": {},
   "source": [
    "## **Question 3**: Based on the user’s ratings which factors are important among taste, aroma, appearance, and palette?\n",
    "\n",
    "Since implicitly all the factors viz. taste, aroma, appreance, and palette, interact with each other and form the overall rating, there will be a correlation among the overall rating and rating in these factors. The factor whose correlation is the highest, will be the most important factor."
   ]
  },
  {
   "cell_type": "code",
   "execution_count": 17,
   "id": "0c8aeb7f-7697-4335-babb-f59a7a20d295",
   "metadata": {},
   "outputs": [
    {
     "data": {
      "text/html": [
       "<div>\n",
       "<style scoped>\n",
       "    .dataframe tbody tr th:only-of-type {\n",
       "        vertical-align: middle;\n",
       "    }\n",
       "\n",
       "    .dataframe tbody tr th {\n",
       "        vertical-align: top;\n",
       "    }\n",
       "\n",
       "    .dataframe thead th {\n",
       "        text-align: right;\n",
       "    }\n",
       "</style>\n",
       "<table border=\"1\" class=\"dataframe\">\n",
       "  <thead>\n",
       "    <tr style=\"text-align: right;\">\n",
       "      <th></th>\n",
       "      <th>review_appearance</th>\n",
       "      <th>review_aroma</th>\n",
       "      <th>review_palette</th>\n",
       "      <th>review_taste</th>\n",
       "      <th>review_overall</th>\n",
       "    </tr>\n",
       "  </thead>\n",
       "  <tbody>\n",
       "    <tr>\n",
       "      <th>131902</th>\n",
       "      <td>4.5</td>\n",
       "      <td>4.0</td>\n",
       "      <td>3.5</td>\n",
       "      <td>4.5</td>\n",
       "      <td>4.5</td>\n",
       "    </tr>\n",
       "    <tr>\n",
       "      <th>270809</th>\n",
       "      <td>4.5</td>\n",
       "      <td>4.5</td>\n",
       "      <td>4.0</td>\n",
       "      <td>3.5</td>\n",
       "      <td>4.0</td>\n",
       "    </tr>\n",
       "    <tr>\n",
       "      <th>267864</th>\n",
       "      <td>3.5</td>\n",
       "      <td>4.0</td>\n",
       "      <td>4.0</td>\n",
       "      <td>3.5</td>\n",
       "      <td>4.0</td>\n",
       "    </tr>\n",
       "    <tr>\n",
       "      <th>270611</th>\n",
       "      <td>3.5</td>\n",
       "      <td>3.0</td>\n",
       "      <td>2.5</td>\n",
       "      <td>3.0</td>\n",
       "      <td>3.0</td>\n",
       "    </tr>\n",
       "    <tr>\n",
       "      <th>54787</th>\n",
       "      <td>3.0</td>\n",
       "      <td>2.5</td>\n",
       "      <td>1.0</td>\n",
       "      <td>2.5</td>\n",
       "      <td>2.5</td>\n",
       "    </tr>\n",
       "  </tbody>\n",
       "</table>\n",
       "</div>"
      ],
      "text/plain": [
       "        review_appearance  review_aroma  review_palette  review_taste  \\\n",
       "131902                4.5           4.0             3.5           4.5   \n",
       "270809                4.5           4.5             4.0           3.5   \n",
       "267864                3.5           4.0             4.0           3.5   \n",
       "270611                3.5           3.0             2.5           3.0   \n",
       "54787                 3.0           2.5             1.0           2.5   \n",
       "\n",
       "        review_overall  \n",
       "131902             4.5  \n",
       "270809             4.0  \n",
       "267864             4.0  \n",
       "270611             3.0  \n",
       "54787              2.5  "
      ]
     },
     "execution_count": 17,
     "metadata": {},
     "output_type": "execute_result"
    }
   ],
   "source": [
    "rating_df = df_na[['review_appearance', 'review_aroma', 'review_palette',\n",
    "                   'review_taste', 'review_overall']]\n",
    "rating_df.sample(5)"
   ]
  },
  {
   "cell_type": "code",
   "execution_count": 18,
   "id": "0d28ddd4-22b4-497b-a10c-76c856dbf41b",
   "metadata": {},
   "outputs": [
    {
     "data": {
      "text/html": [
       "<div>\n",
       "<style scoped>\n",
       "    .dataframe tbody tr th:only-of-type {\n",
       "        vertical-align: middle;\n",
       "    }\n",
       "\n",
       "    .dataframe tbody tr th {\n",
       "        vertical-align: top;\n",
       "    }\n",
       "\n",
       "    .dataframe thead th {\n",
       "        text-align: right;\n",
       "    }\n",
       "</style>\n",
       "<table border=\"1\" class=\"dataframe\">\n",
       "  <thead>\n",
       "    <tr style=\"text-align: right;\">\n",
       "      <th></th>\n",
       "      <th>review_appearance</th>\n",
       "      <th>review_aroma</th>\n",
       "      <th>review_palette</th>\n",
       "      <th>review_taste</th>\n",
       "      <th>review_overall</th>\n",
       "    </tr>\n",
       "  </thead>\n",
       "  <tbody>\n",
       "    <tr>\n",
       "      <th>review_appearance</th>\n",
       "      <td>1.000000</td>\n",
       "      <td>0.531204</td>\n",
       "      <td>0.544724</td>\n",
       "      <td>0.551979</td>\n",
       "      <td>0.483091</td>\n",
       "    </tr>\n",
       "    <tr>\n",
       "      <th>review_aroma</th>\n",
       "      <td>0.531204</td>\n",
       "      <td>1.000000</td>\n",
       "      <td>0.703428</td>\n",
       "      <td>0.722737</td>\n",
       "      <td>0.780310</td>\n",
       "    </tr>\n",
       "    <tr>\n",
       "      <th>review_palette</th>\n",
       "      <td>0.544724</td>\n",
       "      <td>0.703428</td>\n",
       "      <td>1.000000</td>\n",
       "      <td>0.600842</td>\n",
       "      <td>0.598048</td>\n",
       "    </tr>\n",
       "    <tr>\n",
       "      <th>review_taste</th>\n",
       "      <td>0.551979</td>\n",
       "      <td>0.722737</td>\n",
       "      <td>0.600842</td>\n",
       "      <td>1.000000</td>\n",
       "      <td>0.689276</td>\n",
       "    </tr>\n",
       "    <tr>\n",
       "      <th>review_overall</th>\n",
       "      <td>0.483091</td>\n",
       "      <td>0.780310</td>\n",
       "      <td>0.598048</td>\n",
       "      <td>0.689276</td>\n",
       "      <td>1.000000</td>\n",
       "    </tr>\n",
       "  </tbody>\n",
       "</table>\n",
       "</div>"
      ],
      "text/plain": [
       "                   review_appearance  review_aroma  review_palette  \\\n",
       "review_appearance           1.000000      0.531204        0.544724   \n",
       "review_aroma                0.531204      1.000000        0.703428   \n",
       "review_palette              0.544724      0.703428        1.000000   \n",
       "review_taste                0.551979      0.722737        0.600842   \n",
       "review_overall              0.483091      0.780310        0.598048   \n",
       "\n",
       "                   review_taste  review_overall  \n",
       "review_appearance      0.551979        0.483091  \n",
       "review_aroma           0.722737        0.780310  \n",
       "review_palette         0.600842        0.598048  \n",
       "review_taste           1.000000        0.689276  \n",
       "review_overall         0.689276        1.000000  "
      ]
     },
     "execution_count": 18,
     "metadata": {},
     "output_type": "execute_result"
    }
   ],
   "source": [
    "rating_correlation = rating_df.corr()\n",
    "rating_correlation"
   ]
  },
  {
   "cell_type": "code",
   "execution_count": 19,
   "id": "5c12fdcc-7ba8-4e29-8672-c979f2a62259",
   "metadata": {},
   "outputs": [
    {
     "data": {
      "image/png": "[encoded data removed]",
      "text/plain": [
       "<Figure size 720x720 with 1 Axes>"
      ]
     },
     "metadata": {},
     "output_type": "display_data"
    }
   ],
   "source": [
    "plt.figure(figsize=(10, 10))\n",
    "plt.title(\"Correaltion of different review ratings with the overall ratings.\")\n",
    "sns.barplot(rating_correlation.index[:-1], rating_correlation.review_overall[:-1])\n",
    "plt.xlabel(\"Reviews\")\n",
    "plt.ylabel(\"Value of correlation of reviews w.r.t. review_overall\")\n",
    "plt.show()"
   ]
  },
  {
   "cell_type": "code",
   "execution_count": 20,
   "id": "3c62da20-0eda-450d-ac20-50f9df90e459",
   "metadata": {},
   "outputs": [],
   "source": [
    "del rating_df, rating_correlation"
   ]
  },
  {
   "cell_type": "markdown",
   "id": "18f7c58c-4d9a-4868-bf6a-a19282310f7c",
   "metadata": {},
   "source": [
    "## **Question 4**: If you were to recommend 3 beers to your friends based on this data which ones will you recommend?\n",
    "\n",
    "This is question in my understanding is a little subjective, because it tallks about the recommendation and to my friends. I know for a fact that, if a beer does not a ample amout reviews, my friends will not touch the beer. Further more as we saw in the prevoius answer appearance, aroma, palette and tase form an overall rating. Alcohol content is also of an import. Therefore combining these factors, the suggestions are created. "
   ]
  },
  {
   "cell_type": "code",
   "execution_count": 21,
   "id": "84d62112-b5bc-4ef5-8e7b-ce4fdc9223f0",
   "metadata": {},
   "outputs": [
    {
     "data": {
      "text/html": [
       "<div>\n",
       "<style scoped>\n",
       "    .dataframe tbody tr th:only-of-type {\n",
       "        vertical-align: middle;\n",
       "    }\n",
       "\n",
       "    .dataframe tbody tr th {\n",
       "        vertical-align: top;\n",
       "    }\n",
       "\n",
       "    .dataframe thead th {\n",
       "        text-align: right;\n",
       "    }\n",
       "</style>\n",
       "<table border=\"1\" class=\"dataframe\">\n",
       "  <thead>\n",
       "    <tr style=\"text-align: right;\">\n",
       "      <th></th>\n",
       "      <th>beer_ABV</th>\n",
       "      <th>review_appearance</th>\n",
       "      <th>review_aroma</th>\n",
       "      <th>review_palette</th>\n",
       "      <th>review_taste</th>\n",
       "      <th>review_overall</th>\n",
       "      <th>num_reviews</th>\n",
       "    </tr>\n",
       "    <tr>\n",
       "      <th>beer_name</th>\n",
       "      <th></th>\n",
       "      <th></th>\n",
       "      <th></th>\n",
       "      <th></th>\n",
       "      <th></th>\n",
       "      <th></th>\n",
       "      <th></th>\n",
       "    </tr>\n",
       "  </thead>\n",
       "  <tbody>\n",
       "    <tr>\n",
       "      <th>Citra DIPA</th>\n",
       "      <td>8.0</td>\n",
       "      <td>4.369048</td>\n",
       "      <td>4.573413</td>\n",
       "      <td>4.690476</td>\n",
       "      <td>4.373016</td>\n",
       "      <td>4.630952</td>\n",
       "      <td>252</td>\n",
       "    </tr>\n",
       "    <tr>\n",
       "      <th>Cantillon Blåbær Lambik</th>\n",
       "      <td>5.0</td>\n",
       "      <td>4.644231</td>\n",
       "      <td>4.628205</td>\n",
       "      <td>4.528846</td>\n",
       "      <td>4.493590</td>\n",
       "      <td>4.628205</td>\n",
       "      <td>156</td>\n",
       "    </tr>\n",
       "    <tr>\n",
       "      <th>Heady Topper</th>\n",
       "      <td>8.0</td>\n",
       "      <td>4.163113</td>\n",
       "      <td>4.608742</td>\n",
       "      <td>4.660981</td>\n",
       "      <td>4.405117</td>\n",
       "      <td>4.625800</td>\n",
       "      <td>469</td>\n",
       "    </tr>\n",
       "  </tbody>\n",
       "</table>\n",
       "</div>"
      ],
      "text/plain": [
       "                         beer_ABV  review_appearance  review_aroma  \\\n",
       "beer_name                                                            \n",
       "Citra DIPA                    8.0           4.369048      4.573413   \n",
       "Cantillon Blåbær Lambik       5.0           4.644231      4.628205   \n",
       "Heady Topper                  8.0           4.163113      4.608742   \n",
       "\n",
       "                         review_palette  review_taste  review_overall  \\\n",
       "beer_name                                                               \n",
       "Citra DIPA                     4.690476      4.373016        4.630952   \n",
       "Cantillon Blåbær Lambik        4.528846      4.493590        4.628205   \n",
       "Heady Topper                   4.660981      4.405117        4.625800   \n",
       "\n",
       "                         num_reviews  \n",
       "beer_name                             \n",
       "Citra DIPA                       252  \n",
       "Cantillon Blåbær Lambik          156  \n",
       "Heady Topper                     469  "
      ]
     },
     "execution_count": 21,
     "metadata": {},
     "output_type": "execute_result"
    }
   ],
   "source": [
    "ratings_alcohol_columns = ['beer_ABV', 'review_appearance', 'review_aroma',\n",
    "                           'review_palette', 'review_taste', 'review_overall']\n",
    "rating_alcohol_df = df_na.groupby('beer_name').mean()[ratings_alcohol_columns]\n",
    "rating_alcohol_df['num_reviews'] = df_na.groupby('beer_name').count()['review_text']\n",
    "rating_alcohol_df[rating_alcohol_df.num_reviews >= 100].sort_values(by=['review_overall', 'beer_ABV'], ascending=False).iloc[:3]"
   ]
  },
  {
   "cell_type": "code",
   "execution_count": 22,
   "id": "d945639d-dc1f-49d2-9c71-2d4841363e91",
   "metadata": {},
   "outputs": [],
   "source": [
    "del rating_alcohol_df, ratings_alcohol_columns"
   ]
  },
  {
   "cell_type": "markdown",
   "id": "c0129376-8cc6-48b7-9b44-a9cfffc886b9",
   "metadata": {},
   "source": [
    "## **Question 5**: Which Beer style seems to be the favorite based on reviews written by users?\n",
    "\n",
    "I was unable to find a solution of this question."
   ]
  },
  {
   "cell_type": "markdown",
   "id": "f2ba9677-b397-4088-8718-6e56de9ed3db",
   "metadata": {},
   "source": [
    "## **Question 6**: How does written review compare to overall review score for the beer styles?\n",
    "\n",
    "My proposed way is to find a numnerical value for each review we have. I have chosen to use sentiment analysis. This will not only provid us sentiment but also value assciated with it. This can be then translated to a value between $[0, 5]$, which is also the range of our ratings. Once these values are obtained, we can do the necessary comparison. I here had 2 limitations. Due the hardware limitations, I had to use a sentiment analyzer which gave answers in binary, and had to sample the rerviews instead of using all of them. "
   ]
  },
  {
   "cell_type": "code",
   "execution_count": null,
   "id": "6fad5c06-5258-4109-926d-418b42c78de5",
   "metadata": {},
   "outputs": [],
   "source": [
    "sentiment_classifier = pipeline('sentiment-analysis', model=\"siebert/sentiment-roberta-large-english\")"
   ]
  },
  {
   "cell_type": "code",
   "execution_count": null,
   "id": "9f623bac-bb7d-46c2-b6a5-2f0e40cad1d6",
   "metadata": {},
   "outputs": [],
   "source": [
    "def get_sentiment_score(review: str):\n",
    "    \"\"\"\n",
    "    Takes as input a review and returns a float value representing its sentiment.\n",
    "    \"\"\"\n",
    "    try:\n",
    "        sentiment_dict = sentiment_classifier(review)[0]\n",
    "        if sentiment_dict['label'] == \"NEGATIVE\":\n",
    "            return -1 * sentiment_dict['score']\n",
    "        return sentiment_dict['score']\n",
    "    except Exception:\n",
    "        return np.nan"
   ]
  },
  {
   "cell_type": "code",
   "execution_count": null,
   "id": "0857e121-80c5-4bb1-b8e9-9918da630b2c",
   "metadata": {},
   "outputs": [],
   "source": [
    "sentiment_file = join(DATA_DIR, \"sentiment_sample_data.csv\")"
   ]
  },
  {
   "cell_type": "code",
   "execution_count": null,
   "id": "a252813f-5471-4148-bc40-afd6291b79d1",
   "metadata": {},
   "outputs": [],
   "source": [
    "if isfile(sentiment_file):\n",
    "    df_na_sample = pd.read_csv(sentiment_file, index_col='original_index')\n",
    "else:\n",
    "    df_na_sample = df_na.sample(10)\n",
    "    df_na_sample['sentiment_score'] = df_na_sample.review_text.apply(get_sentiment_score)\n",
    "    df_na_sample.to_csv(sentiment_file, index=True, index_label=\"original_index\")\n",
    "\n",
    "df_na_sample = df_na_sample.dropna()\n",
    "df_na_sample.head()"
   ]
  },
  {
   "cell_type": "code",
   "execution_count": null,
   "id": "6e669956-b2b6-42af-a047-35e7fc30b926",
   "metadata": {},
   "outputs": [],
   "source": [
    "df_na_sample.sentiment_score += 1\n",
    "df_na_sample.sentiment_score *= (5 / 2)\n",
    "df_na_sample.sentiment_score.head()"
   ]
  },
  {
   "cell_type": "code",
   "execution_count": null,
   "id": "ed1f1213-216a-445d-b0d4-a1ec3847d941",
   "metadata": {},
   "outputs": [],
   "source": [
    "df_na_sample.sentiment_score.hist(bins=20)"
   ]
  },
  {
   "cell_type": "code",
   "execution_count": null,
   "id": "948f06a0-b300-451d-8c29-4800343c44f7",
   "metadata": {},
   "outputs": [],
   "source": [
    "sample_corr = df_na_sample.corr()\n",
    "sample_corr.loc[['review_overall', 'sentiment_score'], ['review_overall', 'sentiment_score']]"
   ]
  },
  {
   "cell_type": "code",
   "execution_count": null,
   "id": "10a4a6e7-b91c-42c0-aa99-de6a7a9cc2cc",
   "metadata": {},
   "outputs": [],
   "source": [
    "mean_squared_error(df_na_sample.review_overall, df_na_sample.sentiment_score)"
   ]
  },
  {
   "cell_type": "code",
   "execution_count": null,
   "id": "9d63d495-3025-4db1-8b1a-2f4dfeffc81b",
   "metadata": {},
   "outputs": [],
   "source": [
    "plt.figure(figsize=(20, 5))\n",
    "plt.title(\"Predicted sentiment vs Overall rating\")\n",
    "sns.scatterplot(df_na_sample.index, df_na_sample.review_overall, label=\"Overall rating\")\n",
    "sns.scatterplot(df_na_sample.index, df_na_sample.sentiment_score, label=\"Predicted rating from review text\")\n",
    "plt.xlabel(\"Samples\")\n",
    "plt.ylabel(\"Rating / Sentiment Score\")\n",
    "plt.show()"
   ]
  },
  {
   "cell_type": "code",
   "execution_count": null,
   "id": "3eb5a858-6134-4f44-b7c1-17ab3a4ef477",
   "metadata": {},
   "outputs": [],
   "source": [
    "del df_na_sample, sample_corr"
   ]
  },
  {
   "cell_type": "markdown",
   "id": "388d566f-8480-4696-a73d-dbdd86b74852",
   "metadata": {},
   "source": [
    "## **Question 7**: How do find similar beer drinkers by using written reviews only?"
   ]
  },
  {
   "cell_type": "markdown",
   "id": "5a8ba646-a5bf-432d-b468-a55def3ca028",
   "metadata": {},
   "source": [
    "The process, I will follow is as follows:\n",
    "1. Preprocessing the text.\n",
    "    1. Cleaning the data:\n",
    "        - Converting to lower cases.\n",
    "        - Expanding the contracted terms. \n",
    "        - Experiment with removing stopwords.\n",
    "        > Note: Since we are tackling a problem of pattern recognition, removing the stopwords might change the pattern and reduce the performance of our model.\n",
    "    2. Vectorisation\n",
    "        - Finding 2-grams and 3-grams.\n",
    "        - Creating TF vectors. \n",
    "        > Note: we can use TF-IDF vectors too. \n",
    "2. Training a unsuprevised model.\n",
    "    1. I would like to train a hierarchical agglomerative clustering model. This type of model will allow us to select the number of cluster on the fly and therefore have flexibility.\n",
    "    > Note: This is based on the assumption that the review about a particular beer will be writing same kind reviews. \n",
    "    2. I will also try topic modeling. This will allow us to find the topics the beer reviewrs are generally writing about.\n",
    "    > Note: This methodology also has an assumption which is that the similar beer drinker will be reviewing about same topics in the reviews."
   ]
  }
 ],
 "metadata": {
  "kernelspec": {
   "display_name": "Python 3 (ipykernel)",
   "language": "python",
   "name": "python3"
  },
  "language_info": {
   "codemirror_mode": {
    "name": "ipython",
    "version": 3
   },
   "file_extension": ".py",
   "mimetype": "text/x-python",
   "name": "python",
   "nbconvert_exporter": "python",
   "pygments_lexer": "ipython3",
   "version": "3.9.7"
  }
 },
 "nbformat": 4,
 "nbformat_minor": 5
}
